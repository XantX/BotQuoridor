{
  "nbformat": 4,
  "nbformat_minor": 0,
  "metadata": {
    "colab": {
      "name": "TrabajoCompleijdad.ipynb",
      "provenance": [],
      "collapsed_sections": [],
      "include_colab_link": true
    },
    "kernelspec": {
      "name": "python3",
      "display_name": "Python 3"
    }
  },
  "cells": [
    {
      "cell_type": "markdown",
      "metadata": {
        "id": "view-in-github",
        "colab_type": "text"
      },
      "source": [
        "<a href=\"https://colab.research.google.com/github/XantX/BotQuoridor/blob/develop/.Doc/TrabajoCompleijdad.ipynb\" target=\"_parent\"><img src=\"https://colab.research.google.com/assets/colab-badge.svg\" alt=\"Open In Colab\"/></a>"
      ]
    },
    {
      "cell_type": "markdown",
      "metadata": {
        "id": "MuqrzI-tV4IS",
        "colab_type": "text"
      },
      "source": [
        "# Bot de quoridor\n",
        "\n",
        "**Integrantes:**\n",
        "\n",
        "Richard Hanns Cucho Landeo\n",
        "\n",
        "Angie Nicolle Tomasto Cahuana\n",
        " \n",
        "Sebastian Diaz Torres"
      ]
    },
    {
      "cell_type": "markdown",
      "metadata": {
        "id": "VpnIMM11Jl3q",
        "colab_type": "text"
      },
      "source": [
        "## Introduccion\n",
        "\n",
        "Durante el presente ciclo academico hemos aprendido distintas técnicas de análisis de algoritmos, las cuales nos permiten calcular el costo de un algoritmo en el mejor y peor caso. Para lograr esto aplicamos un conteo de instrucciones, planteamiento y solución del valor esperado de la complijidad por medio de variables aleatorias indicadoras. Del mismo modo tambien se han visto algunas tecnicas de diseño de algoritmos. De esta manera se puede conceptualizar y resolver muchos problemas de acuerdo a su estructura.\n",
        "Durante los ultimos años se han plantedo una gran variedad de problemas de programación las cuales estan ligadas a la realidad, y que necesitan ser resueltas mediante algoritmos. \n",
        "Del mismo modo, existen algunas tecnicas de diseño de algoritmos. Estas son forma de como conceptualizar y resolver muchos problemas basandose en su estructura. En este caso se desea resolver Quaridor, el cual es juego que tiene como meta lograr que una ficha logre atravesar todo el tablero teniendo en cuenta que los otros jugadores pueden colocar algunas paredes durante su recorrido haciendo más complicado que la ficha logre llegar al otro extremo. \n",
        "Para la solucion de este juego uno de los principales algortimos que se utilizara es el de Fuerza Bruta que consiste en hacer una busqueda sistematica a traves de todas las configuraciones posible dentro de un espacio de busqueda. \n",
        "\n"
      ]
    },
    {
      "cell_type": "markdown",
      "metadata": {
        "id": "X6A5WMYBrGhC",
        "colab_type": "text"
      },
      "source": [
        "## Teoria a usar para el desarrollo del bot\n",
        "\n",
        "* Grafos\n",
        "* Algoritmos busqueda de camino minimo de un nodo  a otro A*, DFS y BFS\n",
        "* Libreria networkX\n",
        "* Matriz de adyacensia para los muros, buscar si existe coneccion entre nodos"
      ]
    },
    {
      "cell_type": "markdown",
      "metadata": {
        "id": "3TZiPciYoy07",
        "colab_type": "text"
      },
      "source": [
        "# Estado del Arte\n",
        "\n",
        "\n",
        "A continuación, se presentan cuáles son las formas y métodos que se ha venido utilizando en el desarrollo del proyecto para la implementacion de un bot en el juego quoridor. \n",
        "Tenemos planteado el desarrollo de nuestro proyecto siguiendo algoritmos como Dijkstra ya que explora una mayor cantidad de nodos y por lo tanto siempre encuentra una solución óptima, aunque le tome un tiempo considerable conforme se incremente la cantidad de nodos a explorar. \n",
        "También se aplicaron los algoritmos como el DFS, BFS y el A *. El DFS (Depth First Search) consiste en ir expandiendo cada uno de los nodos que va localizando, de forma recurrente (desde el nodo padre hacia el nodo hijo). Cuando ya no quedan más nodos que visitar en dicho camino, regresa al nodo predecesor, de modo que repite el mismo proceso con cada uno de los vecinos del nodo. \n",
        "En el algoritmo BFS (Breadth First Search) posible encontrar el camino más corto. Por ejemplo, si tenemos un conjunto de actividades representadas por nodos y deseamos llegar a una actividad específica realizando la menor cantidad de actividades posibles, para esto, tienen implementada una heuristica, esto para logar un mejor desempeño tanto en procesamiento como en tiempo de busqueda. Por otro lado el A * , busca reducir el costo del camino dándole prioridad también a los nodos que estén más cerca al nodo inicial similar al algoritmo de Dijkstra.\n",
        "\n",
        "\n",
        "\n",
        "\n",
        "\n"
      ]
    },
    {
      "cell_type": "markdown",
      "metadata": {
        "id": "w3M-PDnrVZT-",
        "colab_type": "text"
      },
      "source": [
        "# **Metodología para el Bot**\n",
        "\n",
        "Para el desarrollo de nuestro proyecto utilizamos diversos estrategias para encontrar soluciones a nuestro problemas y asi satisfacer restricciones que se venian interponiendo en el avance de nuestro algoritmo, enunciaremos las estrategias utilizadas.\n",
        "\n",
        "## Problema por resolver\n",
        "\n",
        "Para el desarollo del bot de quoridor se tomo en cuenta los siguientes pasos para que jugara de la forma mas inteligente posible.\n",
        "\n",
        "## 1. Buscar el camino mas corto para llegar a su objetivo.\n",
        "\n",
        "Este punto se desarrollara mediente el uso de algoritmos de busqueda en grafos DFS, BFS y A* con este ultimo usado de la librebria NetworkX. Los algortimos mencionados son en su mayoria algortimos que hace uso de backtracking para funcionar.\n",
        "\n",
        "## A*\n",
        "\n",
        "![A*](https://upload.wikimedia.org/wikipedia/commons/5/5d/Astar_progress_animation.gif)\n",
        "\n",
        "## DFS\n",
        "\n",
        "![DFS](https://codeforces.com/predownloaded/8d/be/8dbe5d89e58b67f3d8e4d8e0e8eb3358ba921b28.png)\n",
        "\n",
        "##BFS\n",
        "\n",
        "![BFS](https://i.gifer.com/Hw24.gif)\n",
        "\n",
        "  * **Backtracking** \n",
        "\n",
        "      También conocido como recorrer hacia atrás, esta implementación nos beneficia bastante ya que como su nombre lo indica beneficia bastante en el desarrollo de las mecánicas del juego. El jugador o bot realizará movimientos no solo unidireccionales hacia adelante sino también podrá regresar a su posición inicial, hablando en términos de programación para nuestro proyecto, desarrollaremos un recorrido a profundidad dentro de nuestro grafo dirigido de tal manera que nuestro algoritmo conseguirá construir soluciones parciales a medida que progresa en su recorrido. En cada nodo eliminaremos opciones que obviamente no son posibles y procederá a verificar solo aquellas que tienen potencial.\n",
        "\n",
        "  * **Luego de eso se generara una lista con los posibles caminos que debe   seguir para llegar al objetivo.**\n",
        "\n",
        "## 2. Calcular el camino que seguira el enemigo o los enemigos\n",
        "\n",
        "* Para ello se calculara de las mismas maneras y se comparara con el camino propio del bot y de los demas jugadores. luego de esto tomara una decision correspondiente al numero de pasos que le falta para llegar contra los del enemigo.\n",
        "\n",
        "  * **Fuerza Bruta**\n",
        "\n",
        "    Es una técnica simple, que es comumente usada ya que es capaz de encontrar la solución a cualquier problema por complicado que sea probando todas las posibles combinaciones, no importándole caminos malos o muy malos, si no llega a la solución final inicia nuevamente hasta hallar la solución. Esto también será constamente usado para nuestro algortimo ya que como grafo dirigido tiene que encontrar el camino correcto hasta llegar a una solución \n",
        "\n",
        "* De encontrarse que el camino mas corto es del enemigo el bot tendra que retrasar su avance con muros puestos en el camino de rival, siguiendo la lista de nodos obtenidos.\n",
        "\n",
        "* **De lo contrario, se tomara la opcion de avanzar en su propio camino minimo.**\n",
        "\n",
        "## 3. Recalculo del camino\n",
        "Luego de la primera obtencion de camino minimo se verificara si este a sido modificado por algun muro.\n",
        "* En el caso de ser modificado se recalculara el camino minimo desde la posicion actual a los nodos objetivo.\n",
        "* En el caso que no, este seguira con la misma lista de pasos hasta llegar a su objetivo.\n",
        "\n",
        "\n"
      ]
    },
    {
      "cell_type": "markdown",
      "metadata": {
        "id": "01s2bHFNfHIL",
        "colab_type": "text"
      },
      "source": [
        "# **Metodologia del tablero**\n",
        "Para el tablero se tendra que representar como una matriz de abyacencia.\n",
        "## **Tablero**\n",
        "![Quoridor.png](data:image/png;base64,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) \n",
        "## **Matriz de abyacencia ejemplo**\n",
        "![matrix](data:image/png;base64,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)\n",
        "\n",
        "\n",
        "\n",
        "\n",
        "El cual sera modificado por los muros que volveran a cero los enlazes entre distintos nodos.\n",
        "\n",
        "Esto nos servira para el recalculo del camino que tiene que seguir el bot."
      ]
    },
    {
      "cell_type": "markdown",
      "metadata": {
        "id": "J4_ymSaqh0So",
        "colab_type": "text"
      },
      "source": [
        "## **Movimientos:**\n",
        "\n",
        "Buscando soluciones para los movimientos especiales\n",
        "\n",
        "![imagen movimientos](https://i1.wp.com/i.imgur.com/cFIwOOV.jpg?resize=463%2C413)"
      ]
    }
  ]
}